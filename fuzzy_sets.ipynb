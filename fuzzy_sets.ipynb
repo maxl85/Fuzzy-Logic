{
 "cells": [
  {
   "cell_type": "code",
   "execution_count": null,
   "metadata": {
    "collapsed": true
   },
   "outputs": [],
   "source": [
    "%matplotlib inline\n",
    "import matplotlib\n",
    "import matplotlib.pyplot as plt\n",
    "import numpy as np\n",
    "import pandas as pnd\n",
    "import math as mth"
   ]
  },
  {
   "cell_type": "code",
   "execution_count": 3,
   "metadata": {
    "collapsed": false
   },
   "outputs": [],
   "source": [
    "class FuzzySet:\n",
    "    def __init__(self):\n",
    "        self.fuzzy_set = set()\n",
    "        \n",
    "    def __init__(self, *args):\n",
    "        self.fuzzy_set = set()\n",
    "        for grade, item in args:\n",
    "            self.fuzzy_set.add((grade, item))\n",
    "    \n",
    "    def max_grade(self):\n",
    "        max_gr = 0\n",
    "        for i in self.fuzzy_set:\n",
    "            if i[0] > max_gr:\n",
    "                max_gr = i[0]\n",
    "        return max_gr\n",
    "    \n",
    "    def get_universum(self):\n",
    "        universum = set()\n",
    "        for i in self.fuzzy_set:\n",
    "            universum.add(i[1])\n",
    "        return universum\n",
    "\n",
    "    def get_support(self):\n",
    "        support = set()\n",
    "        for i in self.fuzzy_set:\n",
    "            if i[0] > 0:\n",
    "                support.add(i[1])\n",
    "        return support\n",
    "    \n",
    "    def get_points(self):\n",
    "        points = list()\n",
    "        for i in self.fuzzy_set:\n",
    "            if i[0] == 0.5:\n",
    "                points.append(i[1])\n",
    "        return points\n",
    "    \n",
    "    def get_modal(self):\n",
    "        max_gr = self.max_grade()\n",
    "        if max_gr < 1:\n",
    "            return False\n",
    "        else:\n",
    "            count = 0\n",
    "            for i in self.fuzzy_set:\n",
    "                if i[0] == max_gr:\n",
    "                    count = count + 1\n",
    "            if count == 1:\n",
    "                return True\n",
    "            else:\n",
    "                return False\n",
    "    \n",
    "    def get_normal_subnormal(self):\n",
    "        max_gr = self.max_grade()\n",
    "        if max_gr == 1:\n",
    "            return True #is normal\n",
    "        else:\n",
    "            return False #is subnormal\n",
    "    \n",
    "    def get_height(self):\n",
    "        max_gr = self.max_grade()\n",
    "        result = set()\n",
    "        for i in self.fuzzy_set:\n",
    "            if i[0] == max_gr:\n",
    "                result.add(i[1])\n",
    "        return result\n",
    "    \n",
    "    \n",
    "    def get_core(self):\n",
    "        max_gr = self.max_grade()\n",
    "        if max_gr != 1:\n",
    "            return None\n",
    "        else:\n",
    "            result = set()\n",
    "            for i in self.fuzzy_set:\n",
    "                if i[0] == max_gr:\n",
    "                    result.add(i[1])\n",
    "            return result\n",
    "\n",
    "    def get_borders(self):\n",
    "        result = set\n",
    "        for i in self.fuzzy_set:\n",
    "            if i[0] > 0 and i[0] < 1:\n",
    "                result.add(i[1])\n",
    "        return result\n",
    "    \n",
    "    def get_normal_set(self):\n",
    "        if self.get_normal_subnormal():\n",
    "            return None\n",
    "        else:\n",
    "            result = set()\n",
    "            max_gr = self.max_grade()\n",
    "            for i in self.fuzzy_set:\n",
    "                result.add((round(i[0]/max_gr, 2), i[1]))\n",
    "            return result"
   ]
  },
  {
   "cell_type": "markdown",
   "metadata": {
    "collapsed": true
   },
   "source": [
    "Даны два нечетких множества\n",
    "$$X = \\{\\frac{0,6}{1} + \\frac{0,4}{2} + \\frac{0,5}{4} + \\frac{0,9}{5} + \\frac{0,3}{6} + \\frac{0,2}{8} + \\frac{0,1}{9}\\}$$\n",
    "$$Y = \\{\\frac{0,8}{1} + \\frac{0,6}{2} + \\frac{0,9}{3} + \\frac{1}{4} + \\frac{1}{5} + \\frac{0,3}{6} + \\frac{0,5}{9}\\}$$\n",
    "Задание 1. Написать характеристику обоих множеств (универсум, носитель, точки перехода, унимодальность функции принадлежности, нормальное или субнормальное нечеткого множества, высота, ядро, границы нечеткого множества) "
   ]
  },
  {
   "cell_type": "code",
   "execution_count": 48,
   "metadata": {
    "collapsed": false
   },
   "outputs": [
    {
     "name": "stdout",
     "output_type": "stream",
     "text": [
      "Универсум множества Х: {1, 2, 4, 5, 6, 8, 9}\n",
      "Носитель множества X: {1, 2, 4, 5, 6, 8, 9}\n",
      "Точки перехода множества X: 4\n",
      "Функция множества X не унимодально.\n",
      "Множество X нормально.\n",
      "Высота множества X:  {5}\n",
      "Ядро множества X: отсутствует.\n",
      "Границы множества X:  [1, 6, 5, 4, 9, 8, 2] \n",
      "\n",
      "Универсум множества Y: {1, 2, 3, 4, 5, 6, 9}\n",
      "Носитель множества Y: {1, 2, 3, 4, 5, 6, 9}\n",
      "Точки перехода множества Y: 9\n",
      "Функция множества Y не унимодально.\n",
      "Множество Y нормально.\n",
      "Высота множества Y:  {4, 5}\n",
      "Ядро множества Y:  {4, 5}\n",
      "Границы множества Y:  [1, 6, 9, 3, 2] \n",
      "\n"
     ]
    },
    {
     "data": {
      "image/png": "[encoded data removed]",
      "text/plain": [
       "<matplotlib.figure.Figure at 0x7d34c59cc0>"
      ]
     },
     "metadata": {},
     "output_type": "display_data"
    }
   ],
   "source": [
    "X = FuzzySet((0.6, 1),(0.4, 2),(0.5, 4),(0.9, 5),(0.3, 6),(0.2, 8),(0.1, 9))\n",
    "Y = FuzzySet((0.8, 1),(0.6, 2),(0.9, 3),(1, 4),(1, 5),(0.3, 6),(0.5, 9))\n",
    "\n",
    "print('Универсум множества Х:', X.get_universum())\n",
    "\n",
    "print('Носитель множества X:', X.get_support())\n",
    "\n",
    "result_string = 'Точки перехода множества X: '\n",
    "result_list = X.get_points()\n",
    "for p in range(len(result_list) - 1):\n",
    "    result_string = result_string + str(p) + ', '\n",
    "result_string += str(result_list[-1])\n",
    "print(result_string)\n",
    "\n",
    "if X.get_modal():\n",
    "    print('Функция множества X унимодальна.')\n",
    "else:\n",
    "    print('Функция множества X не унимодально.')\n",
    "    \n",
    "if X.get_normal_subnormal:\n",
    "    print('Множество X нормально.')\n",
    "else:\n",
    "    print('Множество Х субнормально.')\n",
    "    \n",
    "result_string = 'Высота множества X: '\n",
    "result_list = X.get_height()\n",
    "print(result_string, result_list)\n",
    "\n",
    "result_string = 'Ядро множества X: '\n",
    "result_set = X.get_core()\n",
    "if result_set is not None:\n",
    "    print(result_string, result_set)\n",
    "else:\n",
    "    result_string += 'отсутствует.'\n",
    "print(result_string)\n",
    "\n",
    "result_string = 'Границы множества X: '\n",
    "result_set = X.get_borders()\n",
    "print(result_string, result_set, '\\n')\n",
    "\n",
    "print('Универсум множества Y:', Y.get_universum())\n",
    "\n",
    "print('Носитель множества Y:', Y.get_support())\n",
    "\n",
    "result_string = 'Точки перехода множества Y: '\n",
    "result_list = Y.get_points()\n",
    "for p in range(len(result_list) - 1):\n",
    "    result_string = result_string + str(p) + ', '\n",
    "result_string += str(result_list[-1])\n",
    "print(result_string)\n",
    "\n",
    "if Y.get_modal():\n",
    "    print('Функция множества Y унимодальна.')\n",
    "else:\n",
    "    print('Функция множества Y не унимодально.')\n",
    "    \n",
    "if Y.get_normal_subnormal:\n",
    "    print('Множество Y нормально.')\n",
    "else:\n",
    "    print('Множество Y субнормально.')\n",
    "    \n",
    "result_string = 'Высота множества Y: '\n",
    "result_list = Y.get_height()\n",
    "print(result_string, result_list)\n",
    "\n",
    "result_string = 'Ядро множества Y: '\n",
    "result_set = Y.get_core()\n",
    "if result_set is not None:\n",
    "    print(result_string, result_set)\n",
    "else:\n",
    "    result_string += 'отсутствует.'\n",
    "\n",
    "result_string = 'Границы множества Y: '\n",
    "result_set = Y.get_borders()\n",
    "print(result_string, result_set, '\\n')\n",
    "\n",
    "xs_X = [1, 2, 4, 5, 6, 8, 9]\n",
    "ys_X = [0.6, 0.4, 0.5, 0.9, 0.3, 0.2, 0.1]\n",
    "\n",
    "xs_Y = [1, 2, 3, 4, 5, 6, 9]\n",
    "ys_Y = [0.8, 0.6, 0.9, 1, 1, 0.3, 0.5]\n",
    "fig, ax = plt.subplots(figsize=(20,10))\n",
    "ax.plot(xs_X, ys_X, '-bp',label = 'Set X')\n",
    "ax.plot(xs_Y, ys_Y, '-gd',label = 'Set Y')\n",
    "ax.xaxis.set_minor_locator(plt.MultipleLocator(50))\n",
    "ax.yaxis.set_minor_locator(plt.MultipleLocator(50))\n",
    "ax.axhline(0, color='black')\n",
    "ax.axvline(0, color='black')\n",
    "ax.grid(which='major', axis='x', linewidth=0.75, linestyle='-', color='0.75')\n",
    "ax.grid(which='major', axis='y', linewidth=0.75, linestyle='-', color='0.75')\n",
    "legend = ax.legend(loc = 'upper center', shadow = True)\n",
    "\n",
    "frame = legend.get_frame()\n",
    "frame.set_facecolor('0.90')\n",
    "\n",
    "plt.show()"
   ]
  },
  {
   "cell_type": "markdown",
   "metadata": {
    "collapsed": true
   },
   "source": [
    "Задание 2. Написать функцию, приводящую субнормальное нечеткое множество к нормальному.\n",
    "$$ X = \\{\\frac{0,6}{1} + \\frac{0,4}{2} + \\frac{0,5}{4} + \\frac{0,9}{5} + \\frac{0,3}{6} + \\frac{0,2}{8} + \\frac{0,1}{9}\\} $$\n",
    "$$ Y = \\{\\frac{0,8}{1} + \\frac{0,6}{2} + \\frac{0,9}{3} + \\frac{1}{4} + \\frac{1}{5} + \\frac{0,3}{6} + \\frac{0,5}{9}\\} $$"
   ]
  },
  {
   "cell_type": "code",
   "execution_count": 5,
   "metadata": {
    "collapsed": false
   },
   "outputs": [
    {
     "name": "stdout",
     "output_type": "stream",
     "text": [
      "Множество Х:\n",
      "{(0.67, 1), (0.33, 6), (1.0, 5), (0.56, 4), (0.11, 9), (0.22, 8), (0.44, 2)}\n",
      "\n",
      "Множество Y:\n",
      "Множество уже нормально.\n"
     ]
    }
   ],
   "source": [
    "print('Множество Х:')\n",
    "result_set = X.get_normal_set()\n",
    "if result_set:\n",
    "    print(result_set)\n",
    "else:\n",
    "    print('Множество уже нормально.')\n",
    "    \n",
    "print('\\nМножество Y:')\n",
    "result_set = Y.get_normal_set()\n",
    "if result_set:\n",
    "    print(result_set)\n",
    "else:\n",
    "    print('Множество уже нормально.')"
   ]
  },
  {
   "cell_type": "markdown",
   "metadata": {},
   "source": [
    "Задание 3. Создать функцию, которая по исходным данным выполняет построение графика (исходные данные: $ x_{0} $, $ x_{n} $ -- начальные и конечные значения аргумента; $ h $ -- шаг, с которым изменяется аргумент; $ f(x) = ax ^ 2 - bx + c $ -- заданная функция.\n",
    "$$ x_{0} = -20 $$\n",
    "$$ x_{n} = -10 $$\n",
    "$$ h = 0,1 $$\n",
    "$$ a = 3 $$\n",
    "$$ b = 2 $$\n",
    "$$ c = 5 $$"
   ]
  },
  {
   "cell_type": "code",
   "execution_count": 7,
   "metadata": {
    "collapsed": false,
    "scrolled": false
   },
   "outputs": [
    {
     "data": {
      "image/png": "[encoded data removed]",
      "text/plain": [
       "<matplotlib.figure.Figure at 0x7d3423c198>"
      ]
     },
     "metadata": {},
     "output_type": "display_data"
    }
   ],
   "source": [
    "x0 = -20\n",
    "xn = -10\n",
    "h = 0.1\n",
    "a = 3\n",
    "b = 2\n",
    "c = 5\n",
    "\n",
    "f = lambda x: a*x*x - b*x + c\n",
    "\n",
    "xs = np.arange(x0, xn + h, h)\n",
    "ys = [f(x) for x in xs]\n",
    "fig, ax = plt.subplots(figsize=(20,10))\n",
    "ax.plot(xs, ys)\n",
    "ax.xaxis.set_minor_locator(plt.MultipleLocator(50))\n",
    "ax.yaxis.set_minor_locator(plt.MultipleLocator(50))\n",
    "ax.axhline(0, color='black')\n",
    "ax.axvline(0, color='black')\n",
    "ax.grid(which='major', axis='x', linewidth=0.75, linestyle='-', color='0.75')\n",
    "ax.grid(which='major', axis='y', linewidth=0.75, linestyle='-', color='0.75')"
   ]
  },
  {
   "cell_type": "markdown",
   "metadata": {
    "collapsed": true
   },
   "source": [
    "Задание 4. Создать пользовательскую функцию, результатом которой будет массив значений, заносящийся в ячейки. Выполнить графическое отображение работы функции.\n",
    "\n",
    "\\begin{equation*}\n",
    "    y = \n",
    "    \\begin{cases}\n",
    "        e^{-2x}, x\\le0,\n",
    "        \\\\\n",
    "        \\cos{(x-\\pi/6)}, 0<x<5,\n",
    "        \\\\\n",
    "        \\sqrt{x}, x\\ge5\n",
    "    \\end{cases}\n",
    "\\end{equation*}\n",
    "$$ x\\in[-3,10]$$"
   ]
  },
  {
   "cell_type": "code",
   "execution_count": 18,
   "metadata": {
    "collapsed": false
   },
   "outputs": [
    {
     "data": {
      "image/png": "[encoded data removed]",
      "text/plain": [
       "<matplotlib.figure.Figure at 0x7d35235978>"
      ]
     },
     "metadata": {},
     "output_type": "display_data"
    }
   ],
   "source": [
    "y = lambda x: mth.exp(-2*x) if x <= 0 else mth.cos(x - mth.pi/6) if x < 5 else mth.sqrt(x)\n",
    "\n",
    "xs = np.arange(-3, 10 + 0.2, 0.2)\n",
    "ys = [y(x) for x in xs]\n",
    "fig, ax = plt.subplots(figsize=(20,10))\n",
    "ax.plot(xs, ys)\n",
    "ax.xaxis.set_minor_locator(plt.MultipleLocator(1))\n",
    "ax.yaxis.set_minor_locator(plt.MultipleLocator(1))\n",
    "ax.axhline(0, color='black')\n",
    "ax.axvline(0, color='black')\n",
    "ax.grid(which='major', axis='x', linewidth=0.75, linestyle='-', color='0.75')\n",
    "ax.grid(which='major', axis='y', linewidth=0.75, linestyle='-', color='0.75')"
   ]
  },
  {
   "cell_type": "code",
   "execution_count": 19,
   "metadata": {
    "collapsed": false
   },
   "outputs": [
    {
     "data": {
      "text/html": [
       "<div>\n",
       "<table border=\"1\" class=\"dataframe\">\n",
       "  <thead>\n",
       "    <tr style=\"text-align: right;\">\n",
       "      <th></th>\n",
       "      <th>0</th>\n",
       "      <th>1</th>\n",
       "      <th>2</th>\n",
       "      <th>3</th>\n",
       "      <th>4</th>\n",
       "      <th>5</th>\n",
       "      <th>6</th>\n",
       "      <th>7</th>\n",
       "      <th>8</th>\n",
       "      <th>9</th>\n",
       "      <th>...</th>\n",
       "      <th>56</th>\n",
       "      <th>57</th>\n",
       "      <th>58</th>\n",
       "      <th>59</th>\n",
       "      <th>60</th>\n",
       "      <th>61</th>\n",
       "      <th>62</th>\n",
       "      <th>63</th>\n",
       "      <th>64</th>\n",
       "      <th>65</th>\n",
       "    </tr>\n",
       "  </thead>\n",
       "  <tbody>\n",
       "    <tr>\n",
       "      <th>x</th>\n",
       "      <td>-3.000000</td>\n",
       "      <td>-2.800000</td>\n",
       "      <td>-2.600000</td>\n",
       "      <td>-2.400000</td>\n",
       "      <td>-2.200000</td>\n",
       "      <td>-2.00000</td>\n",
       "      <td>-1.800000</td>\n",
       "      <td>-1.60000</td>\n",
       "      <td>-1.400000</td>\n",
       "      <td>-1.200000</td>\n",
       "      <td>...</td>\n",
       "      <td>8.200000</td>\n",
       "      <td>8.400000</td>\n",
       "      <td>8.600000</td>\n",
       "      <td>8.800000</td>\n",
       "      <td>9.0</td>\n",
       "      <td>9.20000</td>\n",
       "      <td>9.400000</td>\n",
       "      <td>9.600000</td>\n",
       "      <td>9.800000</td>\n",
       "      <td>10.000000</td>\n",
       "    </tr>\n",
       "    <tr>\n",
       "      <th>y</th>\n",
       "      <td>403.428793</td>\n",
       "      <td>270.426407</td>\n",
       "      <td>181.272242</td>\n",
       "      <td>121.510418</td>\n",
       "      <td>81.450869</td>\n",
       "      <td>54.59815</td>\n",
       "      <td>36.598234</td>\n",
       "      <td>24.53253</td>\n",
       "      <td>16.444647</td>\n",
       "      <td>11.023176</td>\n",
       "      <td>...</td>\n",
       "      <td>2.863564</td>\n",
       "      <td>2.898275</td>\n",
       "      <td>2.932576</td>\n",
       "      <td>2.966479</td>\n",
       "      <td>3.0</td>\n",
       "      <td>3.03315</td>\n",
       "      <td>3.065942</td>\n",
       "      <td>3.098387</td>\n",
       "      <td>3.130495</td>\n",
       "      <td>3.162278</td>\n",
       "    </tr>\n",
       "  </tbody>\n",
       "</table>\n",
       "<p>2 rows × 66 columns</p>\n",
       "</div>"
      ],
      "text/plain": [
       "           0           1           2           3          4         5   \\\n",
       "x   -3.000000   -2.800000   -2.600000   -2.400000  -2.200000  -2.00000   \n",
       "y  403.428793  270.426407  181.272242  121.510418  81.450869  54.59815   \n",
       "\n",
       "          6         7          8          9     ...            56        57  \\\n",
       "x  -1.800000  -1.60000  -1.400000  -1.200000    ...      8.200000  8.400000   \n",
       "y  36.598234  24.53253  16.444647  11.023176    ...      2.863564  2.898275   \n",
       "\n",
       "         58        59   60       61        62        63        64         65  \n",
       "x  8.600000  8.800000  9.0  9.20000  9.400000  9.600000  9.800000  10.000000  \n",
       "y  2.932576  2.966479  3.0  3.03315  3.065942  3.098387  3.130495   3.162278  \n",
       "\n",
       "[2 rows x 66 columns]"
      ]
     },
     "execution_count": 19,
     "metadata": {},
     "output_type": "execute_result"
    }
   ],
   "source": [
    "pnd.DataFrame(np.array([xs, ys]), index = ['x', 'y'])"
   ]
  },
  {
   "cell_type": "code",
   "execution_count": null,
   "metadata": {
    "collapsed": true
   },
   "outputs": [],
   "source": []
  }
 ],
 "metadata": {
  "kernelspec": {
   "display_name": "Python 3",
   "language": "python",
   "name": "python3"
  },
  "language_info": {
   "codemirror_mode": {
    "name": "ipython",
    "version": 3
   },
   "file_extension": ".py",
   "mimetype": "text/x-python",
   "name": "python",
   "nbconvert_exporter": "python",
   "pygments_lexer": "ipython3",
   "version": "3.5.2"
  },
  "widgets": {
   "state": {},
   "version": "1.1.2"
  }
 },
 "nbformat": 4,
 "nbformat_minor": 0
}
